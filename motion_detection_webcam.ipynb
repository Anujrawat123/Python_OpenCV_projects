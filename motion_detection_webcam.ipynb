{
 "cells": [
  {
   "cell_type": "code",
   "execution_count": 4,
   "metadata": {},
   "outputs": [],
   "source": [
    "import cv2,time\n",
    "\n",
    "# window_name = \"window\"\n",
    "# cv2.namedWindow(window_name, flag=None,/)\n",
    "# cv2.setWindowProperty(window_name, cv2.WND_PROP_FULLSCREEN, cv2.WINDOW_FULLSCREEN)\n",
    "first_frame=None\n",
    "video=cv2.VideoCapture(0)\n",
    "\n",
    "\n",
    "while True:\n",
    "\n",
    "    check,frame=video.read()\n",
    " \n",
    "    gray=cv2.cvtColor(frame, cv2.COLOR_BGR2GRAY)   #     print gray frames, add below line\n",
    "    gray=cv2.GaussianBlur(gray,(21,21),0)\n",
    "\n",
    "    if first_frame is None:\n",
    "        first_frame=gray\n",
    "        continue\n",
    "    \n",
    "    delta_frame=cv2.absdiff(first_frame,gray)\n",
    "    thresh_delta=cv2.threshold(delta_frame,30,255,cv2.THRESH_BINARY)[1]\n",
    "    thresh_delta=cv2.dilate(thresh_delta,None,iterations=0)\n",
    "    (cnts,_)=cv2.findContours(thresh_delta.copy(),cv2.RETR_EXTERNAL,cv2.CHAIN_APPROX_SIMPLE)\n",
    "\n",
    "    for contour in cnts:\n",
    "        if cv2.contourArea(contour) <500:\n",
    "            continue\n",
    "        (x,y,w,h)=cv2.boundingRect(contour)\n",
    "        cv2.rectangle(frame,(x,y),(x+w,y+h),(0,255,0),2)\n",
    "        \n",
    "    cv2.namedWindow(\"win\", cv2.WINDOW_NORMAL\n",
    "                   )\n",
    "    cv2.imshow(\"win\",frame)\n",
    "    cv2.imshow(\"gray\",gray)\n",
    "    cv2.imshow(\"delta\",delta_frame)\n",
    "    cv2.imshow(\"frame\",thresh_delta)\n",
    "\n",
    "    key=cv2.waitKey(1)\n",
    "\n",
    "    if key==ord('q'):\n",
    "        break\n",
    "\n",
    "video.release()\n",
    "cv2.destroyAllWindows()\n"
   ]
  }
 ],
 "metadata": {
  "kernelspec": {
   "display_name": "Python 3",
   "language": "python",
   "name": "python3"
  },
  "language_info": {
   "codemirror_mode": {
    "name": "ipython",
    "version": 3
   },
   "file_extension": ".py",
   "mimetype": "text/x-python",
   "name": "python",
   "nbconvert_exporter": "python",
   "pygments_lexer": "ipython3",
   "version": "3.8.5"
  }
 },
 "nbformat": 4,
 "nbformat_minor": 4
}
