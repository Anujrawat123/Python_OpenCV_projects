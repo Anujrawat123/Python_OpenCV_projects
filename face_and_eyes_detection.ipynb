{
 "cells": [
  {
   "cell_type": "code",
   "execution_count": 2,
   "metadata": {},
   "outputs": [],
   "source": [
    "import cv2,time\n",
    "\n",
    "face_cascade=cv2.CascadeClassifier(\"haarcascade\\haarcascade_frontalface_default.xml\")\n",
    "eyes_cascade=cv2.CascadeClassifier(\"haarcascade\\haarcascade_eye_tree_eyeglasses.xml\")\n",
    "\n",
    "first_frame=None\n",
    "video=cv2.VideoCapture(0)\n",
    "\n",
    "\n",
    "while True:\n",
    "\n",
    "    check,frame=video.read()\n",
    "    frame = cv2.flip(frame, 1)      #mirror image\n",
    "    gray_img= cv2.cvtColor(frame,cv2.COLOR_BGR2GRAY)\n",
    "    faces=face_cascade.detectMultiScale(gray_img)\n",
    "    \n",
    "    for x,y,w,h in faces:\n",
    "        cv2.rectangle(frame,(x,y),(x+w,y+h),(255,0,0),2)\n",
    "        eye_gray=gray_img[y:y+h, x:x+w]\n",
    "        eye_frame=frame[y:y+h, x:x+w]\n",
    "        eyes=eyes_cascade.detectMultiScale(eye_gray)\n",
    "        for ex,ey,ew,eh in eyes:\n",
    "            cv2.rectangle(eye_frame,(ex,ey),(ex+ew,ey+eh),(0,0,255),2)\n",
    "    \n",
    "    cv2.namedWindow(\"win\", cv2.WINDOW_NORMAL)\n",
    "    cv2.imshow(\"win\",frame)\n",
    "\n",
    "    key=cv2.waitKey(1)\n",
    "\n",
    "    if key==ord('q'):\n",
    "        break\n",
    "\n",
    "video.release()\n",
    "cv2.destroyAllWindows()"
   ]
  }
 ],
 "metadata": {
  "kernelspec": {
   "display_name": "Python 3",
   "language": "python",
   "name": "python3"
  },
  "language_info": {
   "codemirror_mode": {
    "name": "ipython",
    "version": 3
   },
   "file_extension": ".py",
   "mimetype": "text/x-python",
   "name": "python",
   "nbconvert_exporter": "python",
   "pygments_lexer": "ipython3",
   "version": "3.8.5"
  }
 },
 "nbformat": 4,
 "nbformat_minor": 4
}
