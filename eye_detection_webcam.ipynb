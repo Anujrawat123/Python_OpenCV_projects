{
 "cells": [
  {
   "cell_type": "code",
   "execution_count": 3,
   "metadata": {},
   "outputs": [],
   "source": [
    "import cv2,time\n",
    "\n",
    "eyes_cascade=cv2.CascadeClassifier(\"haarcascade\\haarcascade_eye_tree_eyeglasses.xml\")   #importaing haarcascade file\n",
    "\n",
    "video=cv2.VideoCapture(0)        #Assigning webcam webcam [0],external cam[1]\n",
    "\n",
    "while True:                       #arrange/appending image to show like video\n",
    "\n",
    "    check,frame=video.read()       #reading frames\n",
    "    frame = cv2.flip(frame, 1)      #mirror image\n",
    "    gray_img= cv2.cvtColor(frame,cv2.COLOR_BGR2GRAY)    #convert image to gray color to feed in haarcascade detetor\n",
    "    eyes=eyes_cascade.detectMultiScale(gray_img)        # Detecting eyes\n",
    "    \n",
    "    for x,y,w,h in eyes:                                   #creating rectange over eyes\n",
    "        cv2.rectangle(frame,(x,y),(x+w,y+h),(255,0,0),2)\n",
    "    \n",
    "#     cv2.namedWindow(\"win\", cv2.WINDOW_NORMAL)               window size to display\n",
    "    cv2.imshow(\"win\",frame)                                   #print frame\n",
    "\n",
    "    key=cv2.waitKey(1)                                        #delay milisec\n",
    "\n",
    "    if key==ord('q'):                                         #press key to break loop\n",
    "        break\n",
    "\n",
    "video.release()                                               # close camera\n",
    "cv2.destroyAllWindows()                                       #close display window"
   ]
  }
 ],
 "metadata": {
  "kernelspec": {
   "display_name": "Python 3",
   "language": "python",
   "name": "python3"
  },
  "language_info": {
   "codemirror_mode": {
    "name": "ipython",
    "version": 3
   },
   "file_extension": ".py",
   "mimetype": "text/x-python",
   "name": "python",
   "nbconvert_exporter": "python",
   "pygments_lexer": "ipython3",
   "version": "3.8.5"
  }
 },
 "nbformat": 4,
 "nbformat_minor": 4
}
