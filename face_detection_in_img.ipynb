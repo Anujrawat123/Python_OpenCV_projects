{
 "cells": [
  {
   "cell_type": "code",
   "execution_count": 2,
   "metadata": {},
   "outputs": [],
   "source": [
    "import cv2\n",
    "face_cascade=cv2.CascadeClassifier(\"haarcascade\\\\haarcascade_frontalface_default.xml\")\n",
    "\n",
    "img=cv2.imread(\"D:\\\\python\\\\open CV tutorial\\\\img.jpg\")\n",
    "\n",
    "gray_img= cv2.cvtColor(img,cv2.COLOR_BGR2GRAY)\n",
    "\n",
    "faces=face_cascade.detectMultiScale(gray_img,scaleFactor=1.3,minNeighbors=5)\n",
    "\n",
    "for x,y,w,h in faces:\n",
    "    img= cv2.rectangle(img,(x,y),(x+w,y+h),(0,255,0),6)\n",
    "\n",
    "cv2.imshow(\"gray\",img)\n",
    "cv2.waitKey(0)\n",
    "\n",
    "cv2.destroyAllWindows()"
   ]
  }
 ],
 "metadata": {
  "kernelspec": {
   "display_name": "Python 3",
   "language": "python",
   "name": "python3"
  },
  "language_info": {
   "codemirror_mode": {
    "name": "ipython",
    "version": 3
   },
   "file_extension": ".py",
   "mimetype": "text/x-python",
   "name": "python",
   "nbconvert_exporter": "python",
   "pygments_lexer": "ipython3",
   "version": "3.8.5"
  }
 },
 "nbformat": 4,
 "nbformat_minor": 4
}
